{
 "cells": [
  {
   "cell_type": "code",
   "id": "initial_id",
   "metadata": {
    "collapsed": true,
    "ExecuteTime": {
     "end_time": "2025-09-10T20:55:17.101774Z",
     "start_time": "2025-09-10T20:55:15.046095Z"
    }
   },
   "source": [
    "from dotenv import load_dotenv\n",
    "\n",
    "import altair as alt\n",
    "import polars as pl\n",
    "\n",
    "from src.epicorAPI.CSIProducts import get_csi_sales, categories, material_codes, competitors\n",
    "\n",
    "load_dotenv()"
   ],
   "outputs": [
    {
     "data": {
      "text/plain": [
       "True"
      ]
     },
     "execution_count": 1,
     "metadata": {},
     "output_type": "execute_result"
    }
   ],
   "execution_count": 1
  },
  {
   "metadata": {
    "ExecuteTime": {
     "end_time": "2025-09-10T20:55:17.138042Z",
     "start_time": "2025-09-10T20:55:17.133053Z"
    }
   },
   "cell_type": "code",
   "source": [
    "def print_price(num: float):\n",
    "    return f\"${num:,.2f}\""
   ],
   "id": "65b30c19399d40f3",
   "outputs": [],
   "execution_count": 2
  },
  {
   "metadata": {
    "ExecuteTime": {
     "end_time": "2025-09-10T20:55:17.457387Z",
     "start_time": "2025-09-10T20:55:17.148649Z"
    }
   },
   "cell_type": "code",
   "source": [
    "csi_products = get_csi_sales()\n",
    "csi_products"
   ],
   "id": "21d49ccbd9b8658",
   "outputs": [
    {
     "name": "stdout",
     "output_type": "stream",
     "text": [
      "local\n"
     ]
    },
    {
     "data": {
      "text/plain": [
       "shape: (2_773, 5)\n",
       "┌─────────────────────┬──────────┬───────────────────────┬───────────┬─────────────────────────────┐\n",
       "│ changedate          ┆ ordernum ┆ partnum               ┆ unitprice ┆ linedesc                    │\n",
       "│ ---                 ┆ ---      ┆ ---                   ┆ ---       ┆ ---                         │\n",
       "│ datetime[μs]        ┆ i64      ┆ str                   ┆ f64       ┆ str                         │\n",
       "╞═════════════════════╪══════════╪═══════════════════════╪═══════════╪═════════════════════════════╡\n",
       "│ 2022-05-25 00:00:00 ┆ 21472    ┆ BFL-SGL-TF011         ┆ 141.55    ┆ - Single Baffles TF011      │\n",
       "│                     ┆          ┆                       ┆           ┆ …                           │\n",
       "│ 2022-05-25 00:00:00 ┆ 21472    ┆ BFL-SGL-TF011         ┆ 54.93     ┆ - Single Baffles TF011      │\n",
       "│                     ┆          ┆                       ┆           ┆ …                           │\n",
       "│ 2022-05-25 00:00:00 ┆ 21472    ┆ BFL-SGL-TF011         ┆ 43.95     ┆ - Single Baffles TF011      │\n",
       "│                     ┆          ┆                       ┆           ┆ …                           │\n",
       "│ 2022-01-26 00:00:00 ┆ 21490    ┆ BIO-PSS-SP            ┆ 1619.2    ┆ Plant Screen Sphere - 3'    │\n",
       "│                     ┆          ┆                       ┆           ┆ Dia                         │\n",
       "│ 2022-06-07 00:00:00 ┆ 21663    ┆ BFL-FLD-001           ┆ 300.0     ┆ - Folded Baffles 001        │\n",
       "│                     ┆          ┆                       ┆           ┆ …                           │\n",
       "│ …                   ┆ …        ┆ …                     ┆ …         ┆ …                           │\n",
       "│ 2025-08-21 00:00:00 ┆ 26984    ┆ CLD-WFD-001-SND-CUST  ┆ 71563.36  ┆ Soundcore, Waffle Folded    │\n",
       "│                     ┆          ┆                       ┆           ┆ Cloud…                      │\n",
       "│ 2025-08-21 00:00:00 ┆ 26985    ┆ BFL-DRP-001-PSH-108X8 ┆ 358.61    ┆ PoshFelt, Draped Baffles    │\n",
       "│                     ┆          ┆                       ┆           ┆ 001, …                      │\n",
       "│ 2025-08-21 00:00:00 ┆ 26985    ┆ SYS-LNR-HRL-3CBL      ┆ 137.06    ┆ Aluminum channel with       │\n",
       "│                     ┆          ┆                       ┆           ┆ substrat…                   │\n",
       "│ 2025-08-21 00:00:00 ┆ 26985    ┆ SYS-BKT-HRL-CAP       ┆ 5.83      ┆ H-Rail end cap bracket kit, │\n",
       "│                     ┆          ┆                       ┆           ┆ in…                         │\n",
       "│ 2025-08-21 00:00:00 ┆ 26985    ┆ SYS-BKT-HRL-CON       ┆ 5.46      ┆ H-Rail connection bracket   │\n",
       "│                     ┆          ┆                       ┆           ┆ kit,…                       │\n",
       "└─────────────────────┴──────────┴───────────────────────┴───────────┴─────────────────────────────┘"
      ],
      "text/html": [
       "<div><style>\n",
       ".dataframe > thead > tr,\n",
       ".dataframe > tbody > tr {\n",
       "  text-align: right;\n",
       "  white-space: pre-wrap;\n",
       "}\n",
       "</style>\n",
       "<small>shape: (2_773, 5)</small><table border=\"1\" class=\"dataframe\"><thead><tr><th>changedate</th><th>ordernum</th><th>partnum</th><th>unitprice</th><th>linedesc</th></tr><tr><td>datetime[μs]</td><td>i64</td><td>str</td><td>f64</td><td>str</td></tr></thead><tbody><tr><td>2022-05-25 00:00:00</td><td>21472</td><td>&quot;BFL-SGL-TF011&quot;</td><td>141.55</td><td>&quot;- Single Baffles TF011&nbsp;&nbsp;&nbsp;&nbsp;&nbsp;&nbsp;&nbsp;&nbsp;…</td></tr><tr><td>2022-05-25 00:00:00</td><td>21472</td><td>&quot;BFL-SGL-TF011&quot;</td><td>54.93</td><td>&quot;- Single Baffles TF011&nbsp;&nbsp;&nbsp;&nbsp;&nbsp;&nbsp;&nbsp;&nbsp;…</td></tr><tr><td>2022-05-25 00:00:00</td><td>21472</td><td>&quot;BFL-SGL-TF011&quot;</td><td>43.95</td><td>&quot;- Single Baffles TF011&nbsp;&nbsp;&nbsp;&nbsp;&nbsp;&nbsp;&nbsp;&nbsp;…</td></tr><tr><td>2022-01-26 00:00:00</td><td>21490</td><td>&quot;BIO-PSS-SP&quot;</td><td>1619.2</td><td>&quot;Plant Screen Sphere - 3&#x27; Dia&quot;</td></tr><tr><td>2022-06-07 00:00:00</td><td>21663</td><td>&quot;BFL-FLD-001&quot;</td><td>300.0</td><td>&quot;- Folded Baffles 001&nbsp;&nbsp;&nbsp;&nbsp;&nbsp;&nbsp;&nbsp;&nbsp;&nbsp;&nbsp;…</td></tr><tr><td>&hellip;</td><td>&hellip;</td><td>&hellip;</td><td>&hellip;</td><td>&hellip;</td></tr><tr><td>2025-08-21 00:00:00</td><td>26984</td><td>&quot;CLD-WFD-001-SND-CUST&quot;</td><td>71563.36</td><td>&quot;Soundcore, Waffle Folded Cloud…</td></tr><tr><td>2025-08-21 00:00:00</td><td>26985</td><td>&quot;BFL-DRP-001-PSH-108X8&quot;</td><td>358.61</td><td>&quot;PoshFelt, Draped Baffles 001, …</td></tr><tr><td>2025-08-21 00:00:00</td><td>26985</td><td>&quot;SYS-LNR-HRL-3CBL&quot;</td><td>137.06</td><td>&quot;Aluminum channel with substrat…</td></tr><tr><td>2025-08-21 00:00:00</td><td>26985</td><td>&quot;SYS-BKT-HRL-CAP&quot;</td><td>5.83</td><td>&quot;H-Rail end cap bracket kit, in…</td></tr><tr><td>2025-08-21 00:00:00</td><td>26985</td><td>&quot;SYS-BKT-HRL-CON&quot;</td><td>5.46</td><td>&quot;H-Rail connection bracket kit,…</td></tr></tbody></table></div>"
      ]
     },
     "execution_count": 3,
     "metadata": {},
     "output_type": "execute_result"
    }
   ],
   "execution_count": 3
  },
  {
   "metadata": {
    "ExecuteTime": {
     "end_time": "2025-09-10T20:55:17.474644Z",
     "start_time": "2025-09-10T20:55:17.469585Z"
    }
   },
   "cell_type": "code",
   "source": [
    "total_revenue = csi_products['unitprice'].sum()\n",
    "f\"${total_revenue:,.2f}\""
   ],
   "id": "ab20693445d4994e",
   "outputs": [
    {
     "data": {
      "text/plain": [
       "'$4,969,534.29'"
      ]
     },
     "execution_count": 4,
     "metadata": {},
     "output_type": "execute_result"
    }
   ],
   "execution_count": 4
  },
  {
   "metadata": {
    "ExecuteTime": {
     "end_time": "2025-09-10T20:55:17.566611Z",
     "start_time": "2025-09-10T20:55:17.521843Z"
    }
   },
   "cell_type": "code",
   "source": [
    "def get_category_revenue_sum(df: pl.DataFrame, category_id: str):\n",
    "    return (df.filter(pl.col('partnum').str.contains(category_id)))['unitprice'].sum()\n",
    "\n",
    "\n",
    "def category_revenue(df: pl.DataFrame, total_rev: float):\n",
    "    category_revenue_list = []\n",
    "    for cat in categories:\n",
    "        rev = get_category_revenue_sum(df, cat)\n",
    "        # print(f\"{category}\\t\\t${revenue:,.2f}\", f\"{(revenue / total_revenue) * 100:.2f}%\")\n",
    "        category_revenue_list.append({\n",
    "            \"category\": cat,\n",
    "            \"price\": f\"{rev:,.2f}\",\n",
    "            \"percentage\": float(f\"{(rev / total_rev) * 100:.2f}\"),\n",
    "            \"revenue\": float(f\"{rev:.2f}\"),\n",
    "        })\n",
    "\n",
    "    return pl.DataFrame(category_revenue_list)\n",
    "\n",
    "\n",
    "category_revenue_df = category_revenue(csi_products, total_revenue)\n",
    "print(f\"Total revenue: {total_revenue:,.2f}\")\n",
    "category_revenue_df.select([\"category\", \"price\", \"percentage\"]).sort(pl.col(\"percentage\"), descending=True)"
   ],
   "id": "3da8ea379ef21789",
   "outputs": [
    {
     "name": "stdout",
     "output_type": "stream",
     "text": [
      "Total revenue: 4,969,534.29\n"
     ]
    },
    {
     "data": {
      "text/plain": [
       "shape: (11, 3)\n",
       "┌──────────┬──────────────┬────────────┐\n",
       "│ category ┆ price        ┆ percentage │\n",
       "│ ---      ┆ ---          ┆ ---        │\n",
       "│ str      ┆ str          ┆ f64        │\n",
       "╞══════════╪══════════════╪════════════╡\n",
       "│ SUR      ┆ 2,058,924.42 ┆ 41.43      │\n",
       "│ CLD      ┆ 1,232,769.01 ┆ 24.81      │\n",
       "│ BFL      ┆ 1,211,322.81 ┆ 24.37      │\n",
       "│ BIO      ┆ 131,029.16   ┆ 2.64       │\n",
       "│ DVD      ┆ 106,469.40   ┆ 2.14       │\n",
       "│ …        ┆ …            ┆ …          │\n",
       "│ HDW      ┆ 89,768.13    ┆ 1.81       │\n",
       "│ SYS      ┆ 33,896.93    ┆ 0.68       │\n",
       "│ LED      ┆ 15,872.98    ┆ 0.32       │\n",
       "│ DSGNSER  ┆ 2,550.00     ┆ 0.05       │\n",
       "│ LBR      ┆ 138.15       ┆ 0.0        │\n",
       "└──────────┴──────────────┴────────────┘"
      ],
      "text/html": [
       "<div><style>\n",
       ".dataframe > thead > tr,\n",
       ".dataframe > tbody > tr {\n",
       "  text-align: right;\n",
       "  white-space: pre-wrap;\n",
       "}\n",
       "</style>\n",
       "<small>shape: (11, 3)</small><table border=\"1\" class=\"dataframe\"><thead><tr><th>category</th><th>price</th><th>percentage</th></tr><tr><td>str</td><td>str</td><td>f64</td></tr></thead><tbody><tr><td>&quot;SUR&quot;</td><td>&quot;2,058,924.42&quot;</td><td>41.43</td></tr><tr><td>&quot;CLD&quot;</td><td>&quot;1,232,769.01&quot;</td><td>24.81</td></tr><tr><td>&quot;BFL&quot;</td><td>&quot;1,211,322.81&quot;</td><td>24.37</td></tr><tr><td>&quot;BIO&quot;</td><td>&quot;131,029.16&quot;</td><td>2.64</td></tr><tr><td>&quot;DVD&quot;</td><td>&quot;106,469.40&quot;</td><td>2.14</td></tr><tr><td>&hellip;</td><td>&hellip;</td><td>&hellip;</td></tr><tr><td>&quot;HDW&quot;</td><td>&quot;89,768.13&quot;</td><td>1.81</td></tr><tr><td>&quot;SYS&quot;</td><td>&quot;33,896.93&quot;</td><td>0.68</td></tr><tr><td>&quot;LED&quot;</td><td>&quot;15,872.98&quot;</td><td>0.32</td></tr><tr><td>&quot;DSGNSER&quot;</td><td>&quot;2,550.00&quot;</td><td>0.05</td></tr><tr><td>&quot;LBR&quot;</td><td>&quot;138.15&quot;</td><td>0.0</td></tr></tbody></table></div>"
      ]
     },
     "execution_count": 5,
     "metadata": {},
     "output_type": "execute_result"
    }
   ],
   "execution_count": 5
  },
  {
   "metadata": {
    "ExecuteTime": {
     "end_time": "2025-09-10T20:55:17.724Z",
     "start_time": "2025-09-10T20:55:17.708330Z"
    }
   },
   "cell_type": "code",
   "source": [
    "def get_material_revenue(df: pl.DataFrame, material_code: str):\n",
    "    return (df.filter(pl.col('partnum').str.contains(material_code)))['unitprice'].sum()\n",
    "\n",
    "\n",
    "def material_revenue(df: pl.DataFrame, total_rev: float) -> pl.DataFrame:\n",
    "    material_revenue_list = []\n",
    "    for mat in material_codes:\n",
    "        rev = get_material_revenue(df, mat)\n",
    "        material_revenue_list.append({\n",
    "            \"material\": mat,\n",
    "            \"price\": print_price(rev),\n",
    "            \"percentage\": float(f\"{(rev / total_rev) * 100:.2f}\"),\n",
    "            \"revenue\": float(f\"{rev:.2f}\"),\n",
    "        })\n",
    "\n",
    "    return pl.DataFrame(material_revenue_list)\n",
    "\n",
    "\n",
    "material_revenue_df = material_revenue(csi_products, total_revenue)\n",
    "print(f\"Total revenue: {total_revenue:,.2f}\")\n",
    "material_revenue_df.select([\"material\", \"price\", \"percentage\"]).sort(pl.col(\"percentage\"), descending=True)"
   ],
   "id": "cae83503b13e5629",
   "outputs": [
    {
     "name": "stdout",
     "output_type": "stream",
     "text": [
      "Total revenue: 4,969,534.29\n"
     ]
    },
    {
     "data": {
      "text/plain": [
       "shape: (4, 3)\n",
       "┌──────────┬─────────────┬────────────┐\n",
       "│ material ┆ price       ┆ percentage │\n",
       "│ ---      ┆ ---         ┆ ---        │\n",
       "│ str      ┆ str         ┆ f64        │\n",
       "╞══════════╪═════════════╪════════════╡\n",
       "│ SND      ┆ $618,997.52 ┆ 12.46      │\n",
       "│ SWT      ┆ $616,766.14 ┆ 12.41      │\n",
       "│ PSH      ┆ $292,642.84 ┆ 5.89       │\n",
       "│ SWT2     ┆ $2,304.48   ┆ 0.05       │\n",
       "└──────────┴─────────────┴────────────┘"
      ],
      "text/html": [
       "<div><style>\n",
       ".dataframe > thead > tr,\n",
       ".dataframe > tbody > tr {\n",
       "  text-align: right;\n",
       "  white-space: pre-wrap;\n",
       "}\n",
       "</style>\n",
       "<small>shape: (4, 3)</small><table border=\"1\" class=\"dataframe\"><thead><tr><th>material</th><th>price</th><th>percentage</th></tr><tr><td>str</td><td>str</td><td>f64</td></tr></thead><tbody><tr><td>&quot;SND&quot;</td><td>&quot;$618,997.52&quot;</td><td>12.46</td></tr><tr><td>&quot;SWT&quot;</td><td>&quot;$616,766.14&quot;</td><td>12.41</td></tr><tr><td>&quot;PSH&quot;</td><td>&quot;$292,642.84&quot;</td><td>5.89</td></tr><tr><td>&quot;SWT2&quot;</td><td>&quot;$2,304.48&quot;</td><td>0.05</td></tr></tbody></table></div>"
      ]
     },
     "execution_count": 6,
     "metadata": {},
     "output_type": "execute_result"
    }
   ],
   "execution_count": 6
  },
  {
   "metadata": {
    "ExecuteTime": {
     "end_time": "2025-09-10T20:55:18.107797Z",
     "start_time": "2025-09-10T20:55:18.082123Z"
    }
   },
   "cell_type": "code",
   "source": [
    "# comp_sales = pl.read_csv(\"../data/competitorCategorySales.csv\", truncate_ragged_lines=True)\n",
    "# comp_sales\n",
    "\n",
    "comp_sales = csi_products.filter(\n",
    "    pl.any_horizontal(\n",
    "        pl.col(\"partnum\")\n",
    "        .str.split_exact(\"-\", 2)\n",
    "        .struct[2].str.starts_with(competitor) for competitor in list(competitors.keys())\n",
    "    )\n",
    ")"
   ],
   "id": "43da28187847465c",
   "outputs": [],
   "execution_count": 7
  },
  {
   "metadata": {
    "ExecuteTime": {
     "end_time": "2025-09-10T20:55:18.123947Z",
     "start_time": "2025-09-10T20:55:18.119877Z"
    }
   },
   "cell_type": "code",
   "source": [
    "comp_total_revenue = comp_sales['unitprice'].sum()\n",
    "print_price(comp_total_revenue)"
   ],
   "id": "5b4e1b2782c07f55",
   "outputs": [
    {
     "data": {
      "text/plain": [
       "'$2,191,914.23'"
      ]
     },
     "execution_count": 8,
     "metadata": {},
     "output_type": "execute_result"
    }
   ],
   "execution_count": 8
  },
  {
   "metadata": {
    "ExecuteTime": {
     "end_time": "2025-09-10T20:55:18.162546Z",
     "start_time": "2025-09-10T20:55:18.147247Z"
    }
   },
   "cell_type": "code",
   "source": [
    "\n",
    "comp_category_revenue_df = category_revenue(comp_sales, comp_total_revenue)\n",
    "\n",
    "print(f\"Total revenue: {comp_total_revenue:,.2f}\")\n",
    "comp_category_revenue_df.sort(pl.col(\"percentage\"), descending=True)"
   ],
   "id": "371036b357bcf9d3",
   "outputs": [
    {
     "name": "stdout",
     "output_type": "stream",
     "text": [
      "Total revenue: 2,191,914.23\n"
     ]
    },
    {
     "data": {
      "text/plain": [
       "shape: (11, 4)\n",
       "┌──────────┬──────────────┬────────────┬───────────┐\n",
       "│ category ┆ price        ┆ percentage ┆ revenue   │\n",
       "│ ---      ┆ ---          ┆ ---        ┆ ---       │\n",
       "│ str      ┆ str          ┆ f64        ┆ f64       │\n",
       "╞══════════╪══════════════╪════════════╪═══════════╡\n",
       "│ SUR      ┆ 1,094,661.81 ┆ 49.94      ┆ 1.0947e6  │\n",
       "│ BFL      ┆ 719,946.86   ┆ 32.85      ┆ 719946.86 │\n",
       "│ CLD      ┆ 205,912.72   ┆ 9.39       ┆ 205912.72 │\n",
       "│ GRD      ┆ 80,803.68    ┆ 3.69       ┆ 80803.68  │\n",
       "│ DVD      ┆ 47,545.51    ┆ 2.17       ┆ 47545.51  │\n",
       "│ …        ┆ …            ┆ …          ┆ …         │\n",
       "│ SYS      ┆ 3,525.47     ┆ 0.16       ┆ 3525.47   │\n",
       "│ LED      ┆ 0.00         ┆ 0.0        ┆ 0.0       │\n",
       "│ HDW      ┆ 24.92        ┆ 0.0        ┆ 24.92     │\n",
       "│ LBR      ┆ 0.00         ┆ 0.0        ┆ 0.0       │\n",
       "│ DSGNSER  ┆ 0.00         ┆ 0.0        ┆ 0.0       │\n",
       "└──────────┴──────────────┴────────────┴───────────┘"
      ],
      "text/html": [
       "<div><style>\n",
       ".dataframe > thead > tr,\n",
       ".dataframe > tbody > tr {\n",
       "  text-align: right;\n",
       "  white-space: pre-wrap;\n",
       "}\n",
       "</style>\n",
       "<small>shape: (11, 4)</small><table border=\"1\" class=\"dataframe\"><thead><tr><th>category</th><th>price</th><th>percentage</th><th>revenue</th></tr><tr><td>str</td><td>str</td><td>f64</td><td>f64</td></tr></thead><tbody><tr><td>&quot;SUR&quot;</td><td>&quot;1,094,661.81&quot;</td><td>49.94</td><td>1.0947e6</td></tr><tr><td>&quot;BFL&quot;</td><td>&quot;719,946.86&quot;</td><td>32.85</td><td>719946.86</td></tr><tr><td>&quot;CLD&quot;</td><td>&quot;205,912.72&quot;</td><td>9.39</td><td>205912.72</td></tr><tr><td>&quot;GRD&quot;</td><td>&quot;80,803.68&quot;</td><td>3.69</td><td>80803.68</td></tr><tr><td>&quot;DVD&quot;</td><td>&quot;47,545.51&quot;</td><td>2.17</td><td>47545.51</td></tr><tr><td>&hellip;</td><td>&hellip;</td><td>&hellip;</td><td>&hellip;</td></tr><tr><td>&quot;SYS&quot;</td><td>&quot;3,525.47&quot;</td><td>0.16</td><td>3525.47</td></tr><tr><td>&quot;LED&quot;</td><td>&quot;0.00&quot;</td><td>0.0</td><td>0.0</td></tr><tr><td>&quot;HDW&quot;</td><td>&quot;24.92&quot;</td><td>0.0</td><td>24.92</td></tr><tr><td>&quot;LBR&quot;</td><td>&quot;0.00&quot;</td><td>0.0</td><td>0.0</td></tr><tr><td>&quot;DSGNSER&quot;</td><td>&quot;0.00&quot;</td><td>0.0</td><td>0.0</td></tr></tbody></table></div>"
      ]
     },
     "execution_count": 9,
     "metadata": {},
     "output_type": "execute_result"
    }
   ],
   "execution_count": 9
  },
  {
   "metadata": {
    "ExecuteTime": {
     "end_time": "2025-09-10T20:55:18.218855Z",
     "start_time": "2025-09-10T20:55:18.207455Z"
    }
   },
   "cell_type": "code",
   "source": [
    "comp_material_revenue_df = material_revenue(comp_sales, comp_total_revenue)\n",
    "\n",
    "print(f\"Total revenue: {comp_total_revenue:,.2f}\")\n",
    "comp_material_revenue_df.sort(pl.col(\"percentage\"), descending=True)"
   ],
   "id": "c00cadaa5779cd7c",
   "outputs": [
    {
     "name": "stdout",
     "output_type": "stream",
     "text": [
      "Total revenue: 2,191,914.23\n"
     ]
    },
    {
     "data": {
      "text/plain": [
       "shape: (4, 4)\n",
       "┌──────────┬─────────────┬────────────┬───────────┐\n",
       "│ material ┆ price       ┆ percentage ┆ revenue   │\n",
       "│ ---      ┆ ---         ┆ ---        ┆ ---       │\n",
       "│ str      ┆ str         ┆ f64        ┆ f64       │\n",
       "╞══════════╪═════════════╪════════════╪═══════════╡\n",
       "│ SND      ┆ $169,859.73 ┆ 7.75       ┆ 169859.73 │\n",
       "│ PSH      ┆ $115,584.60 ┆ 5.27       ┆ 115584.6  │\n",
       "│ SWT      ┆ $48,356.03  ┆ 2.21       ┆ 48356.03  │\n",
       "│ SWT2     ┆ $124.30     ┆ 0.01       ┆ 124.3     │\n",
       "└──────────┴─────────────┴────────────┴───────────┘"
      ],
      "text/html": [
       "<div><style>\n",
       ".dataframe > thead > tr,\n",
       ".dataframe > tbody > tr {\n",
       "  text-align: right;\n",
       "  white-space: pre-wrap;\n",
       "}\n",
       "</style>\n",
       "<small>shape: (4, 4)</small><table border=\"1\" class=\"dataframe\"><thead><tr><th>material</th><th>price</th><th>percentage</th><th>revenue</th></tr><tr><td>str</td><td>str</td><td>f64</td><td>f64</td></tr></thead><tbody><tr><td>&quot;SND&quot;</td><td>&quot;$169,859.73&quot;</td><td>7.75</td><td>169859.73</td></tr><tr><td>&quot;PSH&quot;</td><td>&quot;$115,584.60&quot;</td><td>5.27</td><td>115584.6</td></tr><tr><td>&quot;SWT&quot;</td><td>&quot;$48,356.03&quot;</td><td>2.21</td><td>48356.03</td></tr><tr><td>&quot;SWT2&quot;</td><td>&quot;$124.30&quot;</td><td>0.01</td><td>124.3</td></tr></tbody></table></div>"
      ]
     },
     "execution_count": 10,
     "metadata": {},
     "output_type": "execute_result"
    }
   ],
   "execution_count": 10
  },
  {
   "metadata": {
    "ExecuteTime": {
     "end_time": "2025-09-10T20:55:18.442363Z",
     "start_time": "2025-09-10T20:55:18.385741Z"
    }
   },
   "cell_type": "code",
   "source": [
    "def competitor_summary(df: pl.DataFrame, total_comp_revenue: float):\n",
    "    competitor_summary_list = []\n",
    "    for comp in competitors:\n",
    "        competitor_orders = df.filter(\n",
    "            pl.any_horizontal(\n",
    "                pl.col(\"partnum\")\n",
    "                .str.split_exact(\"-\", 2)\n",
    "                .struct[2].str.starts_with(comp)\n",
    "            )\n",
    "        )\n",
    "        competitor_summary_list.append({\n",
    "            \"competitor\": competitors[comp],\n",
    "            \"competitorId\": comp,\n",
    "            \"quoteCount\": len(competitor_orders),\n",
    "            \"totalRevenue\": float(competitor_orders['unitprice'].sum()),\n",
    "            \"totalRevenuePrice\": print_price(float(competitor_orders['unitprice'].sum())),\n",
    "            \"percentage\": float(f\"{(competitor_orders['unitprice'].sum() / total_comp_revenue) * 100:.2f}\"),\n",
    "        })\n",
    "\n",
    "    return pl.DataFrame(competitor_summary_list)\n",
    "\n",
    "\n",
    "comp_summary = (competitor_summary(comp_sales, comp_total_revenue)\n",
    "                .filter(pl.col(\"totalRevenue\") > 0)\n",
    "                .sort(\"percentage\", descending=True)\n",
    "                .select([\"competitor\", \"totalRevenuePrice\", \"percentage\"]))\n",
    "comp_summary"
   ],
   "id": "4a62c1bd25f69b5a",
   "outputs": [
    {
     "data": {
      "text/plain": [
       "shape: (28, 3)\n",
       "┌─────────────┬───────────────────┬────────────┐\n",
       "│ competitor  ┆ totalRevenuePrice ┆ percentage │\n",
       "│ ---         ┆ ---               ┆ ---        │\n",
       "│ str         ┆ str               ┆ f64        │\n",
       "╞═════════════╪═══════════════════╪════════════╡\n",
       "│ FilzFelt    ┆ $1,077,714.81     ┆ 49.17      │\n",
       "│ Turf        ┆ $682,105.24       ┆ 31.12      │\n",
       "│ Sonus       ┆ $99,734.89        ┆ 4.55       │\n",
       "│ Zintra      ┆ $84,307.02        ┆ 3.85       │\n",
       "│ Acoufelt    ┆ $57,989.25        ┆ 2.65       │\n",
       "│ …           ┆ …                 ┆ …          │\n",
       "│ Fact Design ┆ $115.96           ┆ 0.01       │\n",
       "│ Skutchi     ┆ $142.52           ┆ 0.01       │\n",
       "│ Soelberg    ┆ $151.22           ┆ 0.01       │\n",
       "│ Carnegie    ┆ $21.60            ┆ 0.0        │\n",
       "│ Coronet     ┆ $3.32             ┆ 0.0        │\n",
       "└─────────────┴───────────────────┴────────────┘"
      ],
      "text/html": [
       "<div><style>\n",
       ".dataframe > thead > tr,\n",
       ".dataframe > tbody > tr {\n",
       "  text-align: right;\n",
       "  white-space: pre-wrap;\n",
       "}\n",
       "</style>\n",
       "<small>shape: (28, 3)</small><table border=\"1\" class=\"dataframe\"><thead><tr><th>competitor</th><th>totalRevenuePrice</th><th>percentage</th></tr><tr><td>str</td><td>str</td><td>f64</td></tr></thead><tbody><tr><td>&quot;FilzFelt&quot;</td><td>&quot;$1,077,714.81&quot;</td><td>49.17</td></tr><tr><td>&quot;Turf&quot;</td><td>&quot;$682,105.24&quot;</td><td>31.12</td></tr><tr><td>&quot;Sonus&quot;</td><td>&quot;$99,734.89&quot;</td><td>4.55</td></tr><tr><td>&quot;Zintra&quot;</td><td>&quot;$84,307.02&quot;</td><td>3.85</td></tr><tr><td>&quot;Acoufelt&quot;</td><td>&quot;$57,989.25&quot;</td><td>2.65</td></tr><tr><td>&hellip;</td><td>&hellip;</td><td>&hellip;</td></tr><tr><td>&quot;Fact Design&quot;</td><td>&quot;$115.96&quot;</td><td>0.01</td></tr><tr><td>&quot;Skutchi&quot;</td><td>&quot;$142.52&quot;</td><td>0.01</td></tr><tr><td>&quot;Soelberg&quot;</td><td>&quot;$151.22&quot;</td><td>0.01</td></tr><tr><td>&quot;Carnegie&quot;</td><td>&quot;$21.60&quot;</td><td>0.0</td></tr><tr><td>&quot;Coronet&quot;</td><td>&quot;$3.32&quot;</td><td>0.0</td></tr></tbody></table></div>"
      ]
     },
     "execution_count": 11,
     "metadata": {},
     "output_type": "execute_result"
    }
   ],
   "execution_count": 11
  },
  {
   "metadata": {
    "ExecuteTime": {
     "end_time": "2025-09-10T20:55:18.978360Z",
     "start_time": "2025-09-10T20:55:18.487865Z"
    }
   },
   "cell_type": "code",
   "source": [
    "df = comp_summary.to_pandas()\n",
    "\n",
    "chart = alt.Chart(df).mark_arc().encode(\n",
    "    theta=alt.Theta(field=\"percentage\", type=\"quantitative\"),\n",
    "    color=alt.Color(field=\"competitor\", type=\"nominal\"),\n",
    "    tooltip=[\"competitor\", \"percentage\"]\n",
    ")\n",
    "\n",
    "chart.to_html(\"chart.html\")\n",
    "\n",
    "with open(\"chart.html\", \"w\") as f:\n",
    "    f.write(chart.to_html())\n",
    "\n",
    "chart.show()"
   ],
   "id": "7cda99373de49755",
   "outputs": [
    {
     "data": {
      "text/html": [
       "\n",
       "<style>\n",
       "  #altair-viz-10ab547e72c34f2e99887aab3a56e92d.vega-embed {\n",
       "    width: 100%;\n",
       "    display: flex;\n",
       "  }\n",
       "\n",
       "  #altair-viz-10ab547e72c34f2e99887aab3a56e92d.vega-embed details,\n",
       "  #altair-viz-10ab547e72c34f2e99887aab3a56e92d.vega-embed details summary {\n",
       "    position: relative;\n",
       "  }\n",
       "</style>\n",
       "<div id=\"altair-viz-10ab547e72c34f2e99887aab3a56e92d\"></div>\n",
       "<script type=\"text/javascript\">\n",
       "  var VEGA_DEBUG = (typeof VEGA_DEBUG == \"undefined\") ? {} : VEGA_DEBUG;\n",
       "  (function(spec, embedOpt){\n",
       "    let outputDiv = document.currentScript.previousElementSibling;\n",
       "    if (outputDiv.id !== \"altair-viz-10ab547e72c34f2e99887aab3a56e92d\") {\n",
       "      outputDiv = document.getElementById(\"altair-viz-10ab547e72c34f2e99887aab3a56e92d\");\n",
       "    }\n",
       "\n",
       "    const paths = {\n",
       "      \"vega\": \"https://cdn.jsdelivr.net/npm/vega@5?noext\",\n",
       "      \"vega-lib\": \"https://cdn.jsdelivr.net/npm/vega-lib?noext\",\n",
       "      \"vega-lite\": \"https://cdn.jsdelivr.net/npm/vega-lite@5.20.1?noext\",\n",
       "      \"vega-embed\": \"https://cdn.jsdelivr.net/npm/vega-embed@6?noext\",\n",
       "    };\n",
       "\n",
       "    function maybeLoadScript(lib, version) {\n",
       "      var key = `${lib.replace(\"-\", \"\")}_version`;\n",
       "      return (VEGA_DEBUG[key] == version) ?\n",
       "        Promise.resolve(paths[lib]) :\n",
       "        new Promise(function(resolve, reject) {\n",
       "          var s = document.createElement('script');\n",
       "          document.getElementsByTagName(\"head\")[0].appendChild(s);\n",
       "          s.async = true;\n",
       "          s.onload = () => {\n",
       "            VEGA_DEBUG[key] = version;\n",
       "            return resolve(paths[lib]);\n",
       "          };\n",
       "          s.onerror = () => reject(`Error loading script: ${paths[lib]}`);\n",
       "          s.src = paths[lib];\n",
       "        });\n",
       "    }\n",
       "\n",
       "    function showError(err) {\n",
       "      outputDiv.innerHTML = `<div class=\"error\" style=\"color:red;\">${err}</div>`;\n",
       "      throw err;\n",
       "    }\n",
       "\n",
       "    function displayChart(vegaEmbed) {\n",
       "      vegaEmbed(outputDiv, spec, embedOpt)\n",
       "        .catch(err => showError(`Javascript Error: ${err.message}<br>This usually means there's a typo in your chart specification. See the javascript console for the full traceback.`));\n",
       "    }\n",
       "\n",
       "    if(typeof define === \"function\" && define.amd) {\n",
       "      requirejs.config({paths});\n",
       "      let deps = [\"vega-embed\"];\n",
       "      require(deps, displayChart, err => showError(`Error loading script: ${err.message}`));\n",
       "    } else {\n",
       "      maybeLoadScript(\"vega\", \"5\")\n",
       "        .then(() => maybeLoadScript(\"vega-lite\", \"5.20.1\"))\n",
       "        .then(() => maybeLoadScript(\"vega-embed\", \"6\"))\n",
       "        .catch(showError)\n",
       "        .then(() => displayChart(vegaEmbed));\n",
       "    }\n",
       "  })({\"config\": {\"view\": {\"continuousWidth\": 300, \"continuousHeight\": 300}}, \"data\": {\"name\": \"data-05c6faeca2f1a8479ed5cfa920b2f759\"}, \"mark\": {\"type\": \"arc\"}, \"encoding\": {\"color\": {\"field\": \"competitor\", \"type\": \"nominal\"}, \"theta\": {\"field\": \"percentage\", \"type\": \"quantitative\"}, \"tooltip\": [{\"field\": \"competitor\", \"type\": \"nominal\"}, {\"field\": \"percentage\", \"type\": \"quantitative\"}]}, \"$schema\": \"https://vega.github.io/schema/vega-lite/v5.20.1.json\", \"datasets\": {\"data-05c6faeca2f1a8479ed5cfa920b2f759\": [{\"competitor\": \"FilzFelt\", \"totalRevenuePrice\": \"$1,077,714.81\", \"percentage\": 49.17}, {\"competitor\": \"Turf\", \"totalRevenuePrice\": \"$682,105.24\", \"percentage\": 31.12}, {\"competitor\": \"Sonus\", \"totalRevenuePrice\": \"$99,734.89\", \"percentage\": 4.55}, {\"competitor\": \"Zintra\", \"totalRevenuePrice\": \"$84,307.02\", \"percentage\": 3.85}, {\"competitor\": \"Acoufelt\", \"totalRevenuePrice\": \"$57,989.25\", \"percentage\": 2.65}, {\"competitor\": \"Armstrong\", \"totalRevenuePrice\": \"$41,630.54\", \"percentage\": 1.9}, {\"competitor\": \"FSorb\", \"totalRevenuePrice\": \"$28,262.55\", \"percentage\": 1.29}, {\"competitor\": \"LightArt\", \"totalRevenuePrice\": \"$25,650.00\", \"percentage\": 1.17}, {\"competitor\": \"Kirei\", \"totalRevenuePrice\": \"$21,924.57\", \"percentage\": 1.0}, {\"competitor\": \"PolySorb\", \"totalRevenuePrice\": \"$16,566.83\", \"percentage\": 0.76}, {\"competitor\": \"SoundPly\", \"totalRevenuePrice\": \"$16,630.24\", \"percentage\": 0.76}, {\"competitor\": \"EzoBord\", \"totalRevenuePrice\": \"$14,225.71\", \"percentage\": 0.65}, {\"competitor\": \"3form\", \"totalRevenuePrice\": \"$6,853.10\", \"percentage\": 0.31}, {\"competitor\": \"Unika Vaev\", \"totalRevenuePrice\": \"$3,149.44\", \"percentage\": 0.14}, {\"competitor\": \"Focal Point\", \"totalRevenuePrice\": \"$2,907.65\", \"percentage\": 0.13}, {\"competitor\": \"Frasch\", \"totalRevenuePrice\": \"$2,763.69\", \"percentage\": 0.13}, {\"competitor\": \"Impact Acoustics\", \"totalRevenuePrice\": \"$2,585.77\", \"percentage\": 0.12}, {\"competitor\": \"Saylite\", \"totalRevenuePrice\": \"$2,372.45\", \"percentage\": 0.11}, {\"competitor\": \"Autex\", \"totalRevenuePrice\": \"$1,302.47\", \"percentage\": 0.06}, {\"competitor\": \"MPS Acoustics\", \"totalRevenuePrice\": \"$1,293.96\", \"percentage\": 0.06}, {\"competitor\": \"Inhabit\", \"totalRevenuePrice\": \"$703.66\", \"percentage\": 0.03}, {\"competitor\": \"USG\", \"totalRevenuePrice\": \"$608.80\", \"percentage\": 0.03}, {\"competitor\": \"CertainTeed\", \"totalRevenuePrice\": \"$196.98\", \"percentage\": 0.01}, {\"competitor\": \"Fact Design\", \"totalRevenuePrice\": \"$115.96\", \"percentage\": 0.01}, {\"competitor\": \"Skutchi\", \"totalRevenuePrice\": \"$142.52\", \"percentage\": 0.01}, {\"competitor\": \"Soelberg\", \"totalRevenuePrice\": \"$151.22\", \"percentage\": 0.01}, {\"competitor\": \"Carnegie\", \"totalRevenuePrice\": \"$21.60\", \"percentage\": 0.0}, {\"competitor\": \"Coronet\", \"totalRevenuePrice\": \"$3.32\", \"percentage\": 0.0}]}}, {\"mode\": \"vega-lite\"});\n",
       "</script>"
      ],
      "text/plain": [
       "alt.Chart(...)"
      ]
     },
     "metadata": {},
     "output_type": "display_data"
    }
   ],
   "execution_count": 12
  },
  {
   "metadata": {
    "ExecuteTime": {
     "end_time": "2025-09-10T20:55:19.030643Z",
     "start_time": "2025-09-10T20:55:19.028226Z"
    }
   },
   "cell_type": "code",
   "source": "",
   "id": "86d6504874c8ba25",
   "outputs": [],
   "execution_count": null
  },
  {
   "metadata": {
    "ExecuteTime": {
     "end_time": "2025-09-10T20:56:27.099129Z",
     "start_time": "2025-09-10T20:56:27.091343Z"
    }
   },
   "cell_type": "code",
   "source": "comp_category_revenue_df.to_pandas().to_dict(orient=\"records\")",
   "id": "15419f3471b00b9e",
   "outputs": [
    {
     "data": {
      "text/plain": [
       "[{'category': 'SUR',\n",
       "  'price': '1,094,661.81',\n",
       "  'percentage': 49.94,\n",
       "  'revenue': 1094661.81},\n",
       " {'category': 'LED', 'price': '0.00', 'percentage': 0.0, 'revenue': 0.0},\n",
       " {'category': 'DVD',\n",
       "  'price': '47,545.51',\n",
       "  'percentage': 2.17,\n",
       "  'revenue': 47545.51},\n",
       " {'category': 'HDW', 'price': '24.92', 'percentage': 0.0, 'revenue': 24.92},\n",
       " {'category': 'BIO',\n",
       "  'price': '42,544.96',\n",
       "  'percentage': 1.94,\n",
       "  'revenue': 42544.96},\n",
       " {'category': 'LBR', 'price': '0.00', 'percentage': 0.0, 'revenue': 0.0},\n",
       " {'category': 'BFL',\n",
       "  'price': '719,946.86',\n",
       "  'percentage': 32.85,\n",
       "  'revenue': 719946.86},\n",
       " {'category': 'CLD',\n",
       "  'price': '205,912.72',\n",
       "  'percentage': 9.39,\n",
       "  'revenue': 205912.72},\n",
       " {'category': 'SYS',\n",
       "  'price': '3,525.47',\n",
       "  'percentage': 0.16,\n",
       "  'revenue': 3525.47},\n",
       " {'category': 'DSGNSER', 'price': '0.00', 'percentage': 0.0, 'revenue': 0.0},\n",
       " {'category': 'GRD',\n",
       "  'price': '80,803.68',\n",
       "  'percentage': 3.69,\n",
       "  'revenue': 80803.68}]"
      ]
     },
     "execution_count": 17,
     "metadata": {},
     "output_type": "execute_result"
    }
   ],
   "execution_count": 17
  },
  {
   "metadata": {
    "ExecuteTime": {
     "end_time": "2025-09-10T20:57:45.696111Z",
     "start_time": "2025-09-10T20:57:45.691150Z"
    }
   },
   "cell_type": "code",
   "source": "comp_category_revenue_df.to_dicts()",
   "id": "7141a3c32a49344d",
   "outputs": [
    {
     "data": {
      "text/plain": [
       "[{'category': 'SUR',\n",
       "  'price': '1,094,661.81',\n",
       "  'percentage': 49.94,\n",
       "  'revenue': 1094661.81},\n",
       " {'category': 'LED', 'price': '0.00', 'percentage': 0.0, 'revenue': 0.0},\n",
       " {'category': 'DVD',\n",
       "  'price': '47,545.51',\n",
       "  'percentage': 2.17,\n",
       "  'revenue': 47545.51},\n",
       " {'category': 'HDW', 'price': '24.92', 'percentage': 0.0, 'revenue': 24.92},\n",
       " {'category': 'BIO',\n",
       "  'price': '42,544.96',\n",
       "  'percentage': 1.94,\n",
       "  'revenue': 42544.96},\n",
       " {'category': 'LBR', 'price': '0.00', 'percentage': 0.0, 'revenue': 0.0},\n",
       " {'category': 'BFL',\n",
       "  'price': '719,946.86',\n",
       "  'percentage': 32.85,\n",
       "  'revenue': 719946.86},\n",
       " {'category': 'CLD',\n",
       "  'price': '205,912.72',\n",
       "  'percentage': 9.39,\n",
       "  'revenue': 205912.72},\n",
       " {'category': 'SYS',\n",
       "  'price': '3,525.47',\n",
       "  'percentage': 0.16,\n",
       "  'revenue': 3525.47},\n",
       " {'category': 'DSGNSER', 'price': '0.00', 'percentage': 0.0, 'revenue': 0.0},\n",
       " {'category': 'GRD',\n",
       "  'price': '80,803.68',\n",
       "  'percentage': 3.69,\n",
       "  'revenue': 80803.68}]"
      ]
     },
     "execution_count": 19,
     "metadata": {},
     "output_type": "execute_result"
    }
   ],
   "execution_count": 19
  },
  {
   "metadata": {
    "ExecuteTime": {
     "end_time": "2025-09-10T21:54:08.497386Z",
     "start_time": "2025-09-10T21:54:08.084901Z"
    }
   },
   "cell_type": "code",
   "source": [
    "\n",
    "start_date = \"2025-07-01\"\n",
    "end_date = \"2025-07-30\"\n",
    "csi_sales = get_csi_sales(startdate=start_date, enddate=end_date)\n",
    "csi_sales"
   ],
   "id": "5ebc6773a87607f7",
   "outputs": [
    {
     "name": "stdout",
     "output_type": "stream",
     "text": [
      "local\n"
     ]
    },
    {
     "data": {
      "text/plain": [
       "shape: (201, 5)\n",
       "┌─────────────────────┬──────────┬─────────────────────────┬───────────┬───────────────────────────┐\n",
       "│ changedate          ┆ ordernum ┆ partnum                 ┆ unitprice ┆ linedesc                  │\n",
       "│ ---                 ┆ ---      ┆ ---                     ┆ ---       ┆ ---                       │\n",
       "│ datetime[μs]        ┆ i64      ┆ str                     ┆ f64       ┆ str                       │\n",
       "╞═════════════════════╪══════════╪═════════════════════════╪═══════════╪═══════════════════════════╡\n",
       "│ 2025-07-25 00:00:00 ┆ 24696    ┆ SUR-PFL-TF028           ┆ 76.02     ┆ - Soundcore Profile       │\n",
       "│                     ┆          ┆                         ┆           ┆ Surfaces T…               │\n",
       "│ 2025-07-25 00:00:00 ┆ 26039    ┆ BFL-DRP-001-PSH-108X7   ┆ 283.07    ┆ PoshFelt, Draped Baffles  │\n",
       "│                     ┆          ┆                         ┆           ┆ 001, …                    │\n",
       "│ 2025-07-25 00:00:00 ┆ 26039    ┆ BFL-DRP-001-PSH-108X9   ┆ 308.87    ┆ PoshFelt, Draped Baffles  │\n",
       "│                     ┆          ┆                         ┆           ┆ 001, …                    │\n",
       "│ 2025-07-25 00:00:00 ┆ 26039    ┆ BFL-DRP-001-PSH-108X10  ┆ 343.67    ┆ PoshFelt, Draped Baffles  │\n",
       "│                     ┆          ┆                         ┆           ┆ 001, …                    │\n",
       "│ 2025-07-25 00:00:00 ┆ 26039    ┆ BFL-DRP-001-PSH-108X12  ┆ 378.47    ┆ PoshFelt, Draped Baffles  │\n",
       "│                     ┆          ┆                         ┆           ┆ 001, …                    │\n",
       "│ …                   ┆ …        ┆ …                       ┆ …         ┆ …                         │\n",
       "│ 2025-07-29 00:00:00 ┆ 26877    ┆ BFL-SGL-AR003-SND-36X12 ┆ 20.54     ┆ Soundcore, Single Baffles │\n",
       "│                     ┆          ┆                         ┆           ┆ AR00…                     │\n",
       "│ 2025-07-29 00:00:00 ┆ 26877    ┆ BFL-SGL-AR003-SND-27X12 ┆ 15.39     ┆ Soundcore, Single Baffles │\n",
       "│                     ┆          ┆                         ┆           ┆ AR00…                     │\n",
       "│ 2025-07-29 00:00:00 ┆ 26877    ┆ SYS-LNR-HRL-3CBL        ┆ 191.4     ┆ Aluminum channel with     │\n",
       "│                     ┆          ┆                         ┆           ┆ substrat…                 │\n",
       "│ 2025-07-29 00:00:00 ┆ 26877    ┆ SYS-BKT-HRL-CAP         ┆ 5.83      ┆ H-Rail end cap bracket    │\n",
       "│                     ┆          ┆                         ┆           ┆ kit, in…                  │\n",
       "│ 2025-07-29 00:00:00 ┆ 26877    ┆ SYS-BKT-HRL-CON         ┆ 5.46      ┆ H-Rail connection bracket │\n",
       "│                     ┆          ┆                         ┆           ┆ kit,…                     │\n",
       "└─────────────────────┴──────────┴─────────────────────────┴───────────┴───────────────────────────┘"
      ],
      "text/html": [
       "<div><style>\n",
       ".dataframe > thead > tr,\n",
       ".dataframe > tbody > tr {\n",
       "  text-align: right;\n",
       "  white-space: pre-wrap;\n",
       "}\n",
       "</style>\n",
       "<small>shape: (201, 5)</small><table border=\"1\" class=\"dataframe\"><thead><tr><th>changedate</th><th>ordernum</th><th>partnum</th><th>unitprice</th><th>linedesc</th></tr><tr><td>datetime[μs]</td><td>i64</td><td>str</td><td>f64</td><td>str</td></tr></thead><tbody><tr><td>2025-07-25 00:00:00</td><td>24696</td><td>&quot;SUR-PFL-TF028&quot;</td><td>76.02</td><td>&quot;- Soundcore Profile Surfaces T…</td></tr><tr><td>2025-07-25 00:00:00</td><td>26039</td><td>&quot;BFL-DRP-001-PSH-108X7&quot;</td><td>283.07</td><td>&quot;PoshFelt, Draped Baffles 001, …</td></tr><tr><td>2025-07-25 00:00:00</td><td>26039</td><td>&quot;BFL-DRP-001-PSH-108X9&quot;</td><td>308.87</td><td>&quot;PoshFelt, Draped Baffles 001, …</td></tr><tr><td>2025-07-25 00:00:00</td><td>26039</td><td>&quot;BFL-DRP-001-PSH-108X10&quot;</td><td>343.67</td><td>&quot;PoshFelt, Draped Baffles 001, …</td></tr><tr><td>2025-07-25 00:00:00</td><td>26039</td><td>&quot;BFL-DRP-001-PSH-108X12&quot;</td><td>378.47</td><td>&quot;PoshFelt, Draped Baffles 001, …</td></tr><tr><td>&hellip;</td><td>&hellip;</td><td>&hellip;</td><td>&hellip;</td><td>&hellip;</td></tr><tr><td>2025-07-29 00:00:00</td><td>26877</td><td>&quot;BFL-SGL-AR003-SND-36X12&quot;</td><td>20.54</td><td>&quot;Soundcore, Single Baffles AR00…</td></tr><tr><td>2025-07-29 00:00:00</td><td>26877</td><td>&quot;BFL-SGL-AR003-SND-27X12&quot;</td><td>15.39</td><td>&quot;Soundcore, Single Baffles AR00…</td></tr><tr><td>2025-07-29 00:00:00</td><td>26877</td><td>&quot;SYS-LNR-HRL-3CBL&quot;</td><td>191.4</td><td>&quot;Aluminum channel with substrat…</td></tr><tr><td>2025-07-29 00:00:00</td><td>26877</td><td>&quot;SYS-BKT-HRL-CAP&quot;</td><td>5.83</td><td>&quot;H-Rail end cap bracket kit, in…</td></tr><tr><td>2025-07-29 00:00:00</td><td>26877</td><td>&quot;SYS-BKT-HRL-CON&quot;</td><td>5.46</td><td>&quot;H-Rail connection bracket kit,…</td></tr></tbody></table></div>"
      ]
     },
     "execution_count": 21,
     "metadata": {},
     "output_type": "execute_result"
    }
   ],
   "execution_count": 21
  },
  {
   "metadata": {
    "ExecuteTime": {
     "end_time": "2025-09-10T21:54:50.850235Z",
     "start_time": "2025-09-10T21:54:50.837221Z"
    }
   },
   "cell_type": "code",
   "source": [
    "from src.epicorAPI.CSIProductAnalysis import get_total_revenue\n",
    "\n",
    "cat_asdf = category_revenue(csi_sales, get_total_revenue(csi_sales))\n",
    "cat_asdf"
   ],
   "id": "6c1c9976885e24fd",
   "outputs": [
    {
     "data": {
      "text/plain": [
       "shape: (11, 4)\n",
       "┌──────────┬───────────┬────────────┬──────────┐\n",
       "│ category ┆ price     ┆ percentage ┆ revenue  │\n",
       "│ ---      ┆ ---       ┆ ---        ┆ ---      │\n",
       "│ str      ┆ str       ┆ f64        ┆ f64      │\n",
       "╞══════════╪═══════════╪════════════╪══════════╡\n",
       "│ SUR      ┆ 45,740.00 ┆ 34.19      ┆ 45740.0  │\n",
       "│ LED      ┆ 2,352.00  ┆ 1.76       ┆ 2352.0   │\n",
       "│ DVD      ┆ 3,432.96  ┆ 2.57       ┆ 3432.96  │\n",
       "│ HDW      ┆ 11,211.99 ┆ 8.38       ┆ 11211.99 │\n",
       "│ BIO      ┆ 0.00      ┆ 0.0        ┆ 0.0      │\n",
       "│ …        ┆ …         ┆ …          ┆ …        │\n",
       "│ BFL      ┆ 6,546.30  ┆ 4.89       ┆ 6546.3   │\n",
       "│ CLD      ┆ 55,323.82 ┆ 41.36      ┆ 55323.82 │\n",
       "│ SYS      ┆ 3,941.66  ┆ 2.95       ┆ 3941.66  │\n",
       "│ DSGNSER  ┆ 0.00      ┆ 0.0        ┆ 0.0      │\n",
       "│ GRD      ┆ 6,246.36  ┆ 4.67       ┆ 6246.36  │\n",
       "└──────────┴───────────┴────────────┴──────────┘"
      ],
      "text/html": [
       "<div><style>\n",
       ".dataframe > thead > tr,\n",
       ".dataframe > tbody > tr {\n",
       "  text-align: right;\n",
       "  white-space: pre-wrap;\n",
       "}\n",
       "</style>\n",
       "<small>shape: (11, 4)</small><table border=\"1\" class=\"dataframe\"><thead><tr><th>category</th><th>price</th><th>percentage</th><th>revenue</th></tr><tr><td>str</td><td>str</td><td>f64</td><td>f64</td></tr></thead><tbody><tr><td>&quot;SUR&quot;</td><td>&quot;45,740.00&quot;</td><td>34.19</td><td>45740.0</td></tr><tr><td>&quot;LED&quot;</td><td>&quot;2,352.00&quot;</td><td>1.76</td><td>2352.0</td></tr><tr><td>&quot;DVD&quot;</td><td>&quot;3,432.96&quot;</td><td>2.57</td><td>3432.96</td></tr><tr><td>&quot;HDW&quot;</td><td>&quot;11,211.99&quot;</td><td>8.38</td><td>11211.99</td></tr><tr><td>&quot;BIO&quot;</td><td>&quot;0.00&quot;</td><td>0.0</td><td>0.0</td></tr><tr><td>&hellip;</td><td>&hellip;</td><td>&hellip;</td><td>&hellip;</td></tr><tr><td>&quot;BFL&quot;</td><td>&quot;6,546.30&quot;</td><td>4.89</td><td>6546.3</td></tr><tr><td>&quot;CLD&quot;</td><td>&quot;55,323.82&quot;</td><td>41.36</td><td>55323.82</td></tr><tr><td>&quot;SYS&quot;</td><td>&quot;3,941.66&quot;</td><td>2.95</td><td>3941.66</td></tr><tr><td>&quot;DSGNSER&quot;</td><td>&quot;0.00&quot;</td><td>0.0</td><td>0.0</td></tr><tr><td>&quot;GRD&quot;</td><td>&quot;6,246.36&quot;</td><td>4.67</td><td>6246.36</td></tr></tbody></table></div>"
      ]
     },
     "execution_count": 22,
     "metadata": {},
     "output_type": "execute_result"
    }
   ],
   "execution_count": 22
  },
  {
   "metadata": {
    "ExecuteTime": {
     "end_time": "2025-09-10T22:00:16.163778Z",
     "start_time": "2025-09-10T22:00:15.899759Z"
    }
   },
   "cell_type": "code",
   "source": [
    "comp_summary = (competitor_summary(comp_sales, comp_total_revenue)\n",
    "                .filter(pl.col(\"totalRevenue\") > 0)\n",
    "                .sort(\"percentage\", descending=True))\n",
    "comp_summary"
   ],
   "id": "c2ffd56646bd003f",
   "outputs": [
    {
     "data": {
      "text/plain": [
       "shape: (28, 6)\n",
       "┌─────────────┬──────────────┬────────────┬──────────────┬───────────────────┬────────────┐\n",
       "│ competitor  ┆ competitorId ┆ quoteCount ┆ totalRevenue ┆ totalRevenuePrice ┆ percentage │\n",
       "│ ---         ┆ ---          ┆ ---        ┆ ---          ┆ ---               ┆ ---        │\n",
       "│ str         ┆ str          ┆ i64        ┆ f64          ┆ str               ┆ f64        │\n",
       "╞═════════════╪══════════════╪════════════╪══════════════╪═══════════════════╪════════════╡\n",
       "│ FilzFelt    ┆ FF           ┆ 106        ┆ 1.0777e6     ┆ $1,077,714.81     ┆ 49.17      │\n",
       "│ Turf        ┆ TF           ┆ 217        ┆ 682105.24    ┆ $682,105.24       ┆ 31.12      │\n",
       "│ Sonus       ┆ SN           ┆ 12         ┆ 99734.89     ┆ $99,734.89        ┆ 4.55       │\n",
       "│ Zintra      ┆ ZI           ┆ 59         ┆ 84307.02     ┆ $84,307.02        ┆ 3.85       │\n",
       "│ Acoufelt    ┆ AF           ┆ 56         ┆ 57989.25     ┆ $57,989.25        ┆ 2.65       │\n",
       "│ …           ┆ …            ┆ …          ┆ …            ┆ …                 ┆ …          │\n",
       "│ Fact Design ┆ FT           ┆ 1          ┆ 115.96       ┆ $115.96           ┆ 0.01       │\n",
       "│ Skutchi     ┆ SK           ┆ 1          ┆ 142.52       ┆ $142.52           ┆ 0.01       │\n",
       "│ Soelberg    ┆ SB           ┆ 1          ┆ 151.22       ┆ $151.22           ┆ 0.01       │\n",
       "│ Carnegie    ┆ CA           ┆ 3          ┆ 21.6         ┆ $21.60            ┆ 0.0        │\n",
       "│ Coronet     ┆ CO           ┆ 1          ┆ 3.32         ┆ $3.32             ┆ 0.0        │\n",
       "└─────────────┴──────────────┴────────────┴──────────────┴───────────────────┴────────────┘"
      ],
      "text/html": [
       "<div><style>\n",
       ".dataframe > thead > tr,\n",
       ".dataframe > tbody > tr {\n",
       "  text-align: right;\n",
       "  white-space: pre-wrap;\n",
       "}\n",
       "</style>\n",
       "<small>shape: (28, 6)</small><table border=\"1\" class=\"dataframe\"><thead><tr><th>competitor</th><th>competitorId</th><th>quoteCount</th><th>totalRevenue</th><th>totalRevenuePrice</th><th>percentage</th></tr><tr><td>str</td><td>str</td><td>i64</td><td>f64</td><td>str</td><td>f64</td></tr></thead><tbody><tr><td>&quot;FilzFelt&quot;</td><td>&quot;FF&quot;</td><td>106</td><td>1.0777e6</td><td>&quot;$1,077,714.81&quot;</td><td>49.17</td></tr><tr><td>&quot;Turf&quot;</td><td>&quot;TF&quot;</td><td>217</td><td>682105.24</td><td>&quot;$682,105.24&quot;</td><td>31.12</td></tr><tr><td>&quot;Sonus&quot;</td><td>&quot;SN&quot;</td><td>12</td><td>99734.89</td><td>&quot;$99,734.89&quot;</td><td>4.55</td></tr><tr><td>&quot;Zintra&quot;</td><td>&quot;ZI&quot;</td><td>59</td><td>84307.02</td><td>&quot;$84,307.02&quot;</td><td>3.85</td></tr><tr><td>&quot;Acoufelt&quot;</td><td>&quot;AF&quot;</td><td>56</td><td>57989.25</td><td>&quot;$57,989.25&quot;</td><td>2.65</td></tr><tr><td>&hellip;</td><td>&hellip;</td><td>&hellip;</td><td>&hellip;</td><td>&hellip;</td><td>&hellip;</td></tr><tr><td>&quot;Fact Design&quot;</td><td>&quot;FT&quot;</td><td>1</td><td>115.96</td><td>&quot;$115.96&quot;</td><td>0.01</td></tr><tr><td>&quot;Skutchi&quot;</td><td>&quot;SK&quot;</td><td>1</td><td>142.52</td><td>&quot;$142.52&quot;</td><td>0.01</td></tr><tr><td>&quot;Soelberg&quot;</td><td>&quot;SB&quot;</td><td>1</td><td>151.22</td><td>&quot;$151.22&quot;</td><td>0.01</td></tr><tr><td>&quot;Carnegie&quot;</td><td>&quot;CA&quot;</td><td>3</td><td>21.6</td><td>&quot;$21.60&quot;</td><td>0.0</td></tr><tr><td>&quot;Coronet&quot;</td><td>&quot;CO&quot;</td><td>1</td><td>3.32</td><td>&quot;$3.32&quot;</td><td>0.0</td></tr></tbody></table></div>"
      ]
     },
     "execution_count": 23,
     "metadata": {},
     "output_type": "execute_result"
    }
   ],
   "execution_count": 23
  },
  {
   "metadata": {
    "ExecuteTime": {
     "end_time": "2025-09-10T22:06:15.946919Z",
     "start_time": "2025-09-10T22:06:15.940229Z"
    }
   },
   "cell_type": "code",
   "source": "comp_summary.to_dicts()",
   "id": "40df0a32d2daf9a3",
   "outputs": [
    {
     "data": {
      "text/plain": [
       "[{'competitor': 'FilzFelt',\n",
       "  'competitorId': 'FF',\n",
       "  'quoteCount': 106,\n",
       "  'totalRevenue': 1077714.8099999998,\n",
       "  'totalRevenuePrice': '$1,077,714.81',\n",
       "  'percentage': 49.17},\n",
       " {'competitor': 'Turf',\n",
       "  'competitorId': 'TF',\n",
       "  'quoteCount': 217,\n",
       "  'totalRevenue': 682105.24,\n",
       "  'totalRevenuePrice': '$682,105.24',\n",
       "  'percentage': 31.12},\n",
       " {'competitor': 'Sonus',\n",
       "  'competitorId': 'SN',\n",
       "  'quoteCount': 12,\n",
       "  'totalRevenue': 99734.88999999998,\n",
       "  'totalRevenuePrice': '$99,734.89',\n",
       "  'percentage': 4.55},\n",
       " {'competitor': 'Zintra',\n",
       "  'competitorId': 'ZI',\n",
       "  'quoteCount': 59,\n",
       "  'totalRevenue': 84307.02,\n",
       "  'totalRevenuePrice': '$84,307.02',\n",
       "  'percentage': 3.85},\n",
       " {'competitor': 'Acoufelt',\n",
       "  'competitorId': 'AF',\n",
       "  'quoteCount': 56,\n",
       "  'totalRevenue': 57989.25,\n",
       "  'totalRevenuePrice': '$57,989.25',\n",
       "  'percentage': 2.65},\n",
       " {'competitor': 'Armstrong',\n",
       "  'competitorId': 'AR',\n",
       "  'quoteCount': 30,\n",
       "  'totalRevenue': 41630.54,\n",
       "  'totalRevenuePrice': '$41,630.54',\n",
       "  'percentage': 1.9},\n",
       " {'competitor': 'FSorb',\n",
       "  'competitorId': 'FS',\n",
       "  'quoteCount': 10,\n",
       "  'totalRevenue': 28262.55,\n",
       "  'totalRevenuePrice': '$28,262.55',\n",
       "  'percentage': 1.29},\n",
       " {'competitor': 'LightArt',\n",
       "  'competitorId': 'LA',\n",
       "  'quoteCount': 10,\n",
       "  'totalRevenue': 25650.0,\n",
       "  'totalRevenuePrice': '$25,650.00',\n",
       "  'percentage': 1.17},\n",
       " {'competitor': 'Kirei',\n",
       "  'competitorId': 'KR',\n",
       "  'quoteCount': 36,\n",
       "  'totalRevenue': 21924.570000000003,\n",
       "  'totalRevenuePrice': '$21,924.57',\n",
       "  'percentage': 1.0},\n",
       " {'competitor': 'PolySorb',\n",
       "  'competitorId': 'PS',\n",
       "  'quoteCount': 5,\n",
       "  'totalRevenue': 16566.83,\n",
       "  'totalRevenuePrice': '$16,566.83',\n",
       "  'percentage': 0.76},\n",
       " {'competitor': 'SoundPly',\n",
       "  'competitorId': 'SP',\n",
       "  'quoteCount': 8,\n",
       "  'totalRevenue': 16630.239999999998,\n",
       "  'totalRevenuePrice': '$16,630.24',\n",
       "  'percentage': 0.76},\n",
       " {'competitor': 'EzoBord',\n",
       "  'competitorId': 'EZ',\n",
       "  'quoteCount': 9,\n",
       "  'totalRevenue': 14225.705000000002,\n",
       "  'totalRevenuePrice': '$14,225.71',\n",
       "  'percentage': 0.65},\n",
       " {'competitor': '3form',\n",
       "  'competitorId': '3F',\n",
       "  'quoteCount': 6,\n",
       "  'totalRevenue': 6853.1,\n",
       "  'totalRevenuePrice': '$6,853.10',\n",
       "  'percentage': 0.31},\n",
       " {'competitor': 'Unika Vaev',\n",
       "  'competitorId': 'UV',\n",
       "  'quoteCount': 8,\n",
       "  'totalRevenue': 3149.44,\n",
       "  'totalRevenuePrice': '$3,149.44',\n",
       "  'percentage': 0.14},\n",
       " {'competitor': 'Focal Point',\n",
       "  'competitorId': 'FP',\n",
       "  'quoteCount': 15,\n",
       "  'totalRevenue': 2907.65,\n",
       "  'totalRevenuePrice': '$2,907.65',\n",
       "  'percentage': 0.13},\n",
       " {'competitor': 'Frasch',\n",
       "  'competitorId': 'FR',\n",
       "  'quoteCount': 4,\n",
       "  'totalRevenue': 2763.6899999999996,\n",
       "  'totalRevenuePrice': '$2,763.69',\n",
       "  'percentage': 0.13},\n",
       " {'competitor': 'Impact Acoustics',\n",
       "  'competitorId': 'IA',\n",
       "  'quoteCount': 3,\n",
       "  'totalRevenue': 2585.77,\n",
       "  'totalRevenuePrice': '$2,585.77',\n",
       "  'percentage': 0.12},\n",
       " {'competitor': 'Saylite',\n",
       "  'competitorId': 'SL',\n",
       "  'quoteCount': 13,\n",
       "  'totalRevenue': 2372.4500000000003,\n",
       "  'totalRevenuePrice': '$2,372.45',\n",
       "  'percentage': 0.11},\n",
       " {'competitor': 'Autex',\n",
       "  'competitorId': 'AU',\n",
       "  'quoteCount': 9,\n",
       "  'totalRevenue': 1302.4699999999998,\n",
       "  'totalRevenuePrice': '$1,302.47',\n",
       "  'percentage': 0.06},\n",
       " {'competitor': 'MPS Acoustics',\n",
       "  'competitorId': 'MA',\n",
       "  'quoteCount': 6,\n",
       "  'totalRevenue': 1293.96,\n",
       "  'totalRevenuePrice': '$1,293.96',\n",
       "  'percentage': 0.06},\n",
       " {'competitor': 'Inhabit',\n",
       "  'competitorId': 'IN',\n",
       "  'quoteCount': 13,\n",
       "  'totalRevenue': 703.6600000000001,\n",
       "  'totalRevenuePrice': '$703.66',\n",
       "  'percentage': 0.03},\n",
       " {'competitor': 'USG',\n",
       "  'competitorId': 'US',\n",
       "  'quoteCount': 17,\n",
       "  'totalRevenue': 608.8,\n",
       "  'totalRevenuePrice': '$608.80',\n",
       "  'percentage': 0.03},\n",
       " {'competitor': 'CertainTeed',\n",
       "  'competitorId': 'CT',\n",
       "  'quoteCount': 4,\n",
       "  'totalRevenue': 196.98,\n",
       "  'totalRevenuePrice': '$196.98',\n",
       "  'percentage': 0.01},\n",
       " {'competitor': 'Fact Design',\n",
       "  'competitorId': 'FT',\n",
       "  'quoteCount': 1,\n",
       "  'totalRevenue': 115.96,\n",
       "  'totalRevenuePrice': '$115.96',\n",
       "  'percentage': 0.01},\n",
       " {'competitor': 'Skutchi',\n",
       "  'competitorId': 'SK',\n",
       "  'quoteCount': 1,\n",
       "  'totalRevenue': 142.52,\n",
       "  'totalRevenuePrice': '$142.52',\n",
       "  'percentage': 0.01},\n",
       " {'competitor': 'Soelberg',\n",
       "  'competitorId': 'SB',\n",
       "  'quoteCount': 1,\n",
       "  'totalRevenue': 151.22,\n",
       "  'totalRevenuePrice': '$151.22',\n",
       "  'percentage': 0.01},\n",
       " {'competitor': 'Carnegie',\n",
       "  'competitorId': 'CA',\n",
       "  'quoteCount': 3,\n",
       "  'totalRevenue': 21.6,\n",
       "  'totalRevenuePrice': '$21.60',\n",
       "  'percentage': 0.0},\n",
       " {'competitor': 'Coronet',\n",
       "  'competitorId': 'CO',\n",
       "  'quoteCount': 1,\n",
       "  'totalRevenue': 3.32,\n",
       "  'totalRevenuePrice': '$3.32',\n",
       "  'percentage': 0.0}]"
      ]
     },
     "execution_count": 24,
     "metadata": {},
     "output_type": "execute_result"
    }
   ],
   "execution_count": 24
  },
  {
   "metadata": {},
   "cell_type": "code",
   "outputs": [],
   "execution_count": null,
   "source": "",
   "id": "e0d4451739d6c4ce"
  }
 ],
 "metadata": {
  "kernelspec": {
   "display_name": "Python 3",
   "language": "python",
   "name": "python3"
  },
  "language_info": {
   "codemirror_mode": {
    "name": "ipython",
    "version": 2
   },
   "file_extension": ".py",
   "mimetype": "text/x-python",
   "name": "python",
   "nbconvert_exporter": "python",
   "pygments_lexer": "ipython2",
   "version": "2.7.6"
  }
 },
 "nbformat": 4,
 "nbformat_minor": 5
}
